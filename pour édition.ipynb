{
 "cells": [
  {
   "cell_type": "markdown",
   "metadata": {},
   "source": [
    "Pour la partie pratique, on a choisi de s'intéresser à la propagation de manifestation dans la France métropolitaine à l'échelle des départements. On a tout d'abord chercher à avoir une base de données recensant pour chaque département de France métropolitaine; le nombre de personnes sensibles (personnes actives agées de 15 à 24 ans sans emploi), et les coordonnées des départements (qui nous permettra d'obtenir la distance entre chaque département). \n",
    "\n",
    "**Rq** : Dans l'aticle les personnes caractérisées de sensible sont les hommes de 16 à 24 ans sans emploi et sans qualification"
   ]
  },
  {
   "cell_type": "markdown",
   "metadata": {},
   "source": [
    "On va ensuite s'appuyer sur le modèle théorique de l'article, qui nous donnes les deux équations couplées :\n",
    "\n",
    "$$\\frac{d\\lambda_k(t)}{dt}=-w_k\\lambda_k(t) + \\sigma_k(t)\\beta\\left( \\sum\\limits_{j=0}^{n}\\frac{W_{k,j}\\lambda_j(t)}{N_j} \\right)$$\n",
    "$$\\frac{d\\sigma_k(t)}{dt}=-\\sigma_k(t)\\beta\\left( \\sum\\limits_{j=0}^{n}\\frac{W_{k,j}\\lambda_j(t)}{N_j} \\right)\n",
    "$$\n",
    "\n",
    "Avec, $S_k$ qui est ici représenté par la population sensible et $I_k$ les personnes qui sont actives dans les manifestations.\n",
    "On a donc,\n",
    "$$\\alpha I_k = \\lambda_k$$\n",
    "$$\\alpha S_k = \\sigma_k$$\n",
    "\n",
    "Avec, $\\lambda_k$ qui représent le nombre d'incidents et $\\sigma_k$ le nombre d'incidents potentiels.\n",
    "\n",
    "Et on choisit finalement les pondérations,\n",
    "$$W{k,j}=\\left(1+\\frac{dist(k,j)}{d_o}\\right)^{-\\delta}$$"
   ]
  },
  {
   "cell_type": "markdown",
   "metadata": {},
   "source": [
    "Sachant qu'on a pas les données quantitatives de ces manifestations, on a choisi de prendre des paramètres arbitraires.\n",
    "On fait tout d'abord une simulation dans la quelle il y a un choc au niveau de la population dans le 93 (10 % des habitants potentiellements attirés par une manifestation de ce type ce mettent à manifester)."
   ]
  },
  {
   "cell_type": "markdown",
   "metadata": {},
   "source": [
    "photo1"
   ]
  },
  {
   "cell_type": "markdown",
   "metadata": {},
   "source": [
    "On peut aussi voir comment les manifestations peuvent se propager dans la france (on a choisi de regarder la propagation vers le sud)."
   ]
  },
  {
   "cell_type": "markdown",
   "metadata": {},
   "source": [
    "photo2"
   ]
  },
  {
   "cell_type": "markdown",
   "metadata": {},
   "source": [
    "On remarque bien que à mesure ou les départements s'éloignent du 93 le nombre d'incidents diminue et le pic d'incidents est retadé."
   ]
  }
 ],
 "metadata": {
  "kernelspec": {
   "display_name": "Python 3",
   "language": "python",
   "name": "python3"
  },
  "language_info": {
   "codemirror_mode": {
    "name": "ipython",
    "version": 3
   },
   "file_extension": ".py",
   "mimetype": "text/x-python",
   "name": "python",
   "nbconvert_exporter": "python",
   "pygments_lexer": "ipython3",
   "version": "3.7.4"
  }
 },
 "nbformat": 4,
 "nbformat_minor": 2
}
